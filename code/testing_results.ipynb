{
 "cells": [
  {
   "cell_type": "code",
   "execution_count": 5,
   "id": "a6dcbb2e",
   "metadata": {},
   "outputs": [
    {
     "ename": "",
     "evalue": "",
     "output_type": "error",
     "traceback": [
      "\u001b[1;31mCannot execute code, session has been disposed. Please try restarting the Kernel."
     ]
    },
    {
     "ename": "",
     "evalue": "",
     "output_type": "error",
     "traceback": [
      "\u001b[1;31mThe Kernel crashed while executing code in the the current cell or a previous cell. Please review the code in the cell(s) to identify a possible cause of the failure. Click <a href='https://aka.ms/vscodeJupyterKernelCrash'>here</a> for more info. View Jupyter <a href='command:jupyter.viewOutput'>log</a> for further details."
     ]
    }
   ],
   "source": [
    "from sklearn.model_selection import train_test_split, KFold, cross_val_score\n",
    "from keras.models import Model\n",
    "from keras.layers import Dense, Input\n",
    "from keras.layers import Conv2D, MaxPooling2D, Flatten\n",
    "from keras.optimizers import SGD\n",
    "from keras.losses import binary_crossentropy\n",
    "import pyarrow.feather as feather\n",
    "import numpy as np\n",
    "from cnn import fish_cnn1, fish_cnn2, fish_cnn3, fish_cnn4\n",
    "import matplotlib.pyplot as plt"
   ]
  },
  {
   "cell_type": "code",
   "execution_count": 2,
   "id": "921243cf",
   "metadata": {},
   "outputs": [],
   "source": [
    "# get data\n",
    "data = feather.read_feather(\"C:\\\\Users\\\\budde\\\\Desktop\\\\DS4420\\\\ds4420_final\\\\data\\\\working\\\\fish_frames.feather\")\n",
    "X = data.drop('label', axis=1).to_numpy()\n",
    "y = data['label'].to_numpy()"
   ]
  },
  {
   "cell_type": "code",
   "execution_count": 3,
   "id": "59e2daee",
   "metadata": {},
   "outputs": [
    {
     "data": {
      "text/plain": [
       "array([[  0,   0,   0, ...,   0,   0,   0],\n",
       "       [  0,   0,   0, ...,   0,   0,   0],\n",
       "       [  0,   0,   0, ...,   0,   0,   0],\n",
       "       ...,\n",
       "       [ 37,  37,  38, ..., 100,  96,  96],\n",
       "       [ 37,  38,  38, ..., 101,  98,  98],\n",
       "       [ 38,  38,  38, ..., 100,  98,  98]], shape=(5115, 101376))"
      ]
     },
     "execution_count": 3,
     "metadata": {},
     "output_type": "execute_result"
    }
   ],
   "source": [
    "X"
   ]
  },
  {
   "cell_type": "markdown",
   "id": "31a12697",
   "metadata": {},
   "source": [
    "Check to see the performance of our model"
   ]
  },
  {
   "cell_type": "code",
   "execution_count": 4,
   "id": "d3d9668e",
   "metadata": {},
   "outputs": [
    {
     "name": "stdout",
     "output_type": "stream",
     "text": [
      "Epoch 1/10\n"
     ]
    },
    {
     "name": "stderr",
     "output_type": "stream",
     "text": [
      "c:\\Users\\budde\\anaconda3\\Lib\\site-packages\\keras\\src\\models\\functional.py:238: UserWarning: The structure of `inputs` doesn't match the expected structure.\n",
      "Expected: ['keras_tensor']\n",
      "Received: inputs=Tensor(shape=(None, 288, 352, 1))\n",
      "  warnings.warn(msg)\n"
     ]
    },
    {
     "name": "stdout",
     "output_type": "stream",
     "text": [
      "\u001b[1m137/137\u001b[0m \u001b[32m━━━━━━━━━━━━━━━━━━━━\u001b[0m\u001b[37m\u001b[0m \u001b[1m36s\u001b[0m 252ms/step - accuracy: 0.9627 - loss: 0.0578\n",
      "Epoch 2/10\n",
      "\u001b[1m137/137\u001b[0m \u001b[32m━━━━━━━━━━━━━━━━━━━━\u001b[0m\u001b[37m\u001b[0m \u001b[1m35s\u001b[0m 254ms/step - accuracy: 1.0000 - loss: 0.0010\n",
      "Epoch 3/10\n",
      "\u001b[1m137/137\u001b[0m \u001b[32m━━━━━━━━━━━━━━━━━━━━\u001b[0m\u001b[37m\u001b[0m \u001b[1m34s\u001b[0m 250ms/step - accuracy: 1.0000 - loss: 4.7196e-04\n",
      "Epoch 4/10\n",
      "\u001b[1m137/137\u001b[0m \u001b[32m━━━━━━━━━━━━━━━━━━━━\u001b[0m\u001b[37m\u001b[0m \u001b[1m35s\u001b[0m 257ms/step - accuracy: 1.0000 - loss: 2.5617e-04\n",
      "Epoch 5/10\n",
      "\u001b[1m137/137\u001b[0m \u001b[32m━━━━━━━━━━━━━━━━━━━━\u001b[0m\u001b[37m\u001b[0m \u001b[1m34s\u001b[0m 249ms/step - accuracy: 1.0000 - loss: 1.8684e-04\n",
      "Epoch 6/10\n",
      "\u001b[1m137/137\u001b[0m \u001b[32m━━━━━━━━━━━━━━━━━━━━\u001b[0m\u001b[37m\u001b[0m \u001b[1m34s\u001b[0m 251ms/step - accuracy: 1.0000 - loss: 1.5536e-04\n",
      "Epoch 7/10\n",
      "\u001b[1m137/137\u001b[0m \u001b[32m━━━━━━━━━━━━━━━━━━━━\u001b[0m\u001b[37m\u001b[0m \u001b[1m34s\u001b[0m 247ms/step - accuracy: 1.0000 - loss: 1.1379e-04\n",
      "Epoch 8/10\n",
      "\u001b[1m137/137\u001b[0m \u001b[32m━━━━━━━━━━━━━━━━━━━━\u001b[0m\u001b[37m\u001b[0m \u001b[1m34s\u001b[0m 247ms/step - accuracy: 1.0000 - loss: 1.0201e-04\n",
      "Epoch 9/10\n",
      "\u001b[1m137/137\u001b[0m \u001b[32m━━━━━━━━━━━━━━━━━━━━\u001b[0m\u001b[37m\u001b[0m \u001b[1m34s\u001b[0m 247ms/step - accuracy: 1.0000 - loss: 8.1487e-05\n",
      "Epoch 10/10\n",
      "\u001b[1m137/137\u001b[0m \u001b[32m━━━━━━━━━━━━━━━━━━━━\u001b[0m\u001b[37m\u001b[0m \u001b[1m34s\u001b[0m 247ms/step - accuracy: 1.0000 - loss: 8.1123e-05\n",
      "loss= 0.00010629811004037037\n",
      "accuracy= 1.0\n"
     ]
    }
   ],
   "source": [
    "img_rows, img_cols = 288, 352\n",
    "\n",
    "# split data\n",
    "X_train, X_test, y_train, y_test = train_test_split(X, y, test_size=0.2)\n",
    "\n",
    "# add dimensionality and scale\n",
    "X_train = X_train.reshape(X_train.shape[0], img_rows, img_cols, 1) / 255\n",
    "X_test = X_test.reshape(X_test.shape[0], img_rows, img_cols, 1) / 255\n",
    "\n",
    "\n",
    "# fit model with training data\n",
    "model = fish_cnn1(img_rows, img_cols)\n",
    "model.fit(X_train, y_train, epochs=10, verbose=True, batch_size=30)\n",
    "\n",
    "\n",
    "score = model.evaluate(X_test, y_test, verbose=0)\n",
    "print('loss=', score[0])\n",
    "print('accuracy=', score[1])"
   ]
  },
  {
   "cell_type": "markdown",
   "id": "1299f896",
   "metadata": {},
   "source": [
    "Perform K-folds cross validation to ensure accuracy given our limited data size:"
   ]
  },
  {
   "cell_type": "code",
   "execution_count": null,
   "id": "910e68dc",
   "metadata": {},
   "outputs": [
    {
     "name": "stdout",
     "output_type": "stream",
     "text": [
      "K-Fold Cross-Validation Scores: [1.0, 1.0, 1.0, 1.0]\n",
      "Mean K-Fold Cross-Validation Score: 1.0\n"
     ]
    }
   ],
   "source": [
    "# Custom scoring function for cross_val_score\n",
    "def custom_score(model, X, y):\n",
    "    model.fit(X, y, epochs=10, verbose=0, batch_size=30)\n",
    "    loss, accuracy = model.evaluate(X, y, verbose=0)\n",
    "    return accuracy\n",
    "\n",
    "def test_models(model, X, y):\n",
    "    # K-Fold Cross-Validation\n",
    "    kf = KFold(n_splits=4, shuffle=True, random_state=42)\n",
    "    scores_kf = []\n",
    "\n",
    "    # Loop through K-Fold splits manually\n",
    "    for train_index, test_index in kf.split(X):\n",
    "\n",
    "        X_train_fold, X_test_fold = X[train_index], X[test_index]\n",
    "        y_train_fold, y_test_fold = y[train_index], y[test_index]\n",
    "\n",
    "        # Add the dimensionality and scale\n",
    "        X_train_fold = X_train_fold.reshape(X_train_fold.shape[0], img_rows, img_cols, 1) / 255\n",
    "        X_test_fold = X_test_fold.reshape(X_test_fold.shape[0], img_rows, img_cols, 1) / 255\n",
    "        \n",
    "        # Train model and evaluate on fold\n",
    "        score = custom_score(model, X_train_fold, y_train_fold)\n",
    "        scores_kf.append(score)\n",
    "        \n",
    "    print(\"K-Fold Cross-Validation Scores:\", scores_kf)\n",
    "    print(\"Mean K-Fold Cross-Validation Score:\", np.mean(scores_kf))"
   ]
  },
  {
   "cell_type": "code",
   "execution_count": null,
   "id": "e455ea9e",
   "metadata": {},
   "outputs": [],
   "source": [
    "test_models(fish_cnn1, X, y)"
   ]
  },
  {
   "cell_type": "code",
   "execution_count": null,
   "id": "eff3b4b4",
   "metadata": {},
   "outputs": [],
   "source": [
    "test_models(fish_cnn2, X, y)"
   ]
  },
  {
   "cell_type": "code",
   "execution_count": null,
   "id": "4f827e09",
   "metadata": {},
   "outputs": [],
   "source": [
    "test_models(fish_cnn3, X, y)"
   ]
  },
  {
   "cell_type": "code",
   "execution_count": null,
   "id": "a30a6255",
   "metadata": {},
   "outputs": [],
   "source": [
    "test_models(fish_cnn4, X, y)"
   ]
  },
  {
   "cell_type": "markdown",
   "id": "d207419c",
   "metadata": {},
   "source": [
    "Lets make sure the data is what we think it is (footage either with a fish present or no fish present)!"
   ]
  },
  {
   "cell_type": "code",
   "execution_count": 53,
   "id": "563d7e35",
   "metadata": {},
   "outputs": [
    {
     "data": {
      "image/png": "[encoded data removed]",
      "text/plain": [
       "<Figure size 400x400 with 1 Axes>"
      ]
     },
     "metadata": {},
     "output_type": "display_data"
    }
   ],
   "source": [
    "def plot_img(x, im_shape):\n",
    "    plt.imshow(x.reshape(im_shape), cmap='gray')\n",
    "    plt.xticks([])\n",
    "    plt.yticks([])\n",
    "    plt.gcf().set_size_inches(4, 4)\n",
    "#-465\n",
    "plot_img(X[211], im_shape=(352, 288))"
   ]
  },
  {
   "cell_type": "markdown",
   "id": "7102ab5c",
   "metadata": {},
   "source": [
    "Hello Mr.Fish! A pleasure to meet you :)"
   ]
  }
 ],
 "metadata": {
  "kernelspec": {
   "display_name": "base",
   "language": "python",
   "name": "python3"
  },
  "language_info": {
   "codemirror_mode": {
    "name": "ipython",
    "version": 3
   },
   "file_extension": ".py",
   "mimetype": "text/x-python",
   "name": "python",
   "nbconvert_exporter": "python",
   "pygments_lexer": "ipython3",
   "version": "3.12.8"
  }
 },
 "nbformat": 4,
 "nbformat_minor": 5
}
