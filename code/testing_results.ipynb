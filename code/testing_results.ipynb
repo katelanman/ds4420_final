{
 "cells": [
  {
   "cell_type": "code",
   "execution_count": 20,
   "id": "a6dcbb2e",
   "metadata": {},
   "outputs": [],
   "source": [
    "from sklearn.model_selection import train_test_split, KFold\n",
    "from keras.models import Model\n",
    "from keras.layers import Dense, Input\n",
    "from keras.layers import Conv2D, MaxPooling2D, Flatten\n",
    "from keras.optimizers import SGD\n",
    "from keras.losses import binary_crossentropy\n",
    "import pyarrow.feather as feather\n",
    "import numpy as np\n",
    "from cnn import fish_cnn"
   ]
  },
  {
   "cell_type": "code",
   "execution_count": 21,
   "id": "921243cf",
   "metadata": {},
   "outputs": [
    {
     "ename": "FileNotFoundError",
     "evalue": "[WinError 3] Failed to open local file 'data/working/fish_frames.feather'. Detail: [Windows error 3] The system cannot find the path specified.\r\n",
     "output_type": "error",
     "traceback": [
      "\u001b[1;31m---------------------------------------------------------------------------\u001b[0m",
      "\u001b[1;31mFileNotFoundError\u001b[0m                         Traceback (most recent call last)",
      "Cell \u001b[1;32mIn[21], line 2\u001b[0m\n\u001b[0;32m      1\u001b[0m \u001b[38;5;66;03m# get data\u001b[39;00m\n\u001b[1;32m----> 2\u001b[0m data \u001b[38;5;241m=\u001b[39m feather\u001b[38;5;241m.\u001b[39mread_feather(\u001b[38;5;124m\"\u001b[39m\u001b[38;5;124mdata/working/fish_frames.feather\u001b[39m\u001b[38;5;124m\"\u001b[39m)\n\u001b[0;32m      3\u001b[0m X \u001b[38;5;241m=\u001b[39m data\u001b[38;5;241m.\u001b[39mdrop(\u001b[38;5;124m'\u001b[39m\u001b[38;5;124mlabel\u001b[39m\u001b[38;5;124m'\u001b[39m, axis\u001b[38;5;241m=\u001b[39m\u001b[38;5;241m1\u001b[39m)\u001b[38;5;241m.\u001b[39mto_numpy()\n\u001b[0;32m      4\u001b[0m y \u001b[38;5;241m=\u001b[39m data[\u001b[38;5;124m'\u001b[39m\u001b[38;5;124mlabel\u001b[39m\u001b[38;5;124m'\u001b[39m]\u001b[38;5;241m.\u001b[39mto_numpy()\n",
      "File \u001b[1;32mc:\\Users\\budde\\anaconda3\\Lib\\site-packages\\pyarrow\\feather.py:226\u001b[0m, in \u001b[0;36mread_feather\u001b[1;34m(source, columns, use_threads, memory_map, **kwargs)\u001b[0m\n\u001b[0;32m    199\u001b[0m \u001b[38;5;28;01mdef\u001b[39;00m\u001b[38;5;250m \u001b[39m\u001b[38;5;21mread_feather\u001b[39m(source, columns\u001b[38;5;241m=\u001b[39m\u001b[38;5;28;01mNone\u001b[39;00m, use_threads\u001b[38;5;241m=\u001b[39m\u001b[38;5;28;01mTrue\u001b[39;00m,\n\u001b[0;32m    200\u001b[0m                  memory_map\u001b[38;5;241m=\u001b[39m\u001b[38;5;28;01mFalse\u001b[39;00m, \u001b[38;5;241m*\u001b[39m\u001b[38;5;241m*\u001b[39mkwargs):\n\u001b[0;32m    201\u001b[0m \u001b[38;5;250m    \u001b[39m\u001b[38;5;124;03m\"\"\"\u001b[39;00m\n\u001b[0;32m    202\u001b[0m \u001b[38;5;124;03m    Read a pandas.DataFrame from Feather format. To read as pyarrow.Table use\u001b[39;00m\n\u001b[0;32m    203\u001b[0m \u001b[38;5;124;03m    feather.read_table.\u001b[39;00m\n\u001b[1;32m   (...)\u001b[0m\n\u001b[0;32m    224\u001b[0m \u001b[38;5;124;03m        The contents of the Feather file as a pandas.DataFrame\u001b[39;00m\n\u001b[0;32m    225\u001b[0m \u001b[38;5;124;03m    \"\"\"\u001b[39;00m\n\u001b[1;32m--> 226\u001b[0m     \u001b[38;5;28;01mreturn\u001b[39;00m (read_table(\n\u001b[0;32m    227\u001b[0m         source, columns\u001b[38;5;241m=\u001b[39mcolumns, memory_map\u001b[38;5;241m=\u001b[39mmemory_map,\n\u001b[0;32m    228\u001b[0m         use_threads\u001b[38;5;241m=\u001b[39muse_threads)\u001b[38;5;241m.\u001b[39mto_pandas(use_threads\u001b[38;5;241m=\u001b[39muse_threads, \u001b[38;5;241m*\u001b[39m\u001b[38;5;241m*\u001b[39mkwargs))\n",
      "File \u001b[1;32mc:\\Users\\budde\\anaconda3\\Lib\\site-packages\\pyarrow\\feather.py:252\u001b[0m, in \u001b[0;36mread_table\u001b[1;34m(source, columns, memory_map, use_threads)\u001b[0m\n\u001b[0;32m    231\u001b[0m \u001b[38;5;28;01mdef\u001b[39;00m\u001b[38;5;250m \u001b[39m\u001b[38;5;21mread_table\u001b[39m(source, columns\u001b[38;5;241m=\u001b[39m\u001b[38;5;28;01mNone\u001b[39;00m, memory_map\u001b[38;5;241m=\u001b[39m\u001b[38;5;28;01mFalse\u001b[39;00m, use_threads\u001b[38;5;241m=\u001b[39m\u001b[38;5;28;01mTrue\u001b[39;00m):\n\u001b[0;32m    232\u001b[0m \u001b[38;5;250m    \u001b[39m\u001b[38;5;124;03m\"\"\"\u001b[39;00m\n\u001b[0;32m    233\u001b[0m \u001b[38;5;124;03m    Read a pyarrow.Table from Feather format\u001b[39;00m\n\u001b[0;32m    234\u001b[0m \n\u001b[1;32m   (...)\u001b[0m\n\u001b[0;32m    250\u001b[0m \u001b[38;5;124;03m        The contents of the Feather file as a pyarrow.Table\u001b[39;00m\n\u001b[0;32m    251\u001b[0m \u001b[38;5;124;03m    \"\"\"\u001b[39;00m\n\u001b[1;32m--> 252\u001b[0m     reader \u001b[38;5;241m=\u001b[39m _feather\u001b[38;5;241m.\u001b[39mFeatherReader(\n\u001b[0;32m    253\u001b[0m         source, use_memory_map\u001b[38;5;241m=\u001b[39mmemory_map, use_threads\u001b[38;5;241m=\u001b[39muse_threads)\n\u001b[0;32m    255\u001b[0m     \u001b[38;5;28;01mif\u001b[39;00m columns \u001b[38;5;129;01mis\u001b[39;00m \u001b[38;5;28;01mNone\u001b[39;00m:\n\u001b[0;32m    256\u001b[0m         \u001b[38;5;28;01mreturn\u001b[39;00m reader\u001b[38;5;241m.\u001b[39mread()\n",
      "File \u001b[1;32mc:\\Users\\budde\\anaconda3\\Lib\\site-packages\\pyarrow\\_feather.pyx:77\u001b[0m, in \u001b[0;36mpyarrow._feather.FeatherReader.__cinit__\u001b[1;34m()\u001b[0m\n",
      "File \u001b[1;32mc:\\Users\\budde\\anaconda3\\Lib\\site-packages\\pyarrow\\io.pxi:2168\u001b[0m, in \u001b[0;36mpyarrow.lib.get_reader\u001b[1;34m()\u001b[0m\n",
      "File \u001b[1;32mc:\\Users\\budde\\anaconda3\\Lib\\site-packages\\pyarrow\\io.pxi:2159\u001b[0m, in \u001b[0;36mpyarrow.lib.get_native_file\u001b[1;34m()\u001b[0m\n",
      "File \u001b[1;32mc:\\Users\\budde\\anaconda3\\Lib\\site-packages\\pyarrow\\io.pxi:1245\u001b[0m, in \u001b[0;36mpyarrow.lib.OSFile.__cinit__\u001b[1;34m()\u001b[0m\n",
      "File \u001b[1;32mc:\\Users\\budde\\anaconda3\\Lib\\site-packages\\pyarrow\\io.pxi:1257\u001b[0m, in \u001b[0;36mpyarrow.lib.OSFile._open_readable\u001b[1;34m()\u001b[0m\n",
      "File \u001b[1;32mc:\\Users\\budde\\anaconda3\\Lib\\site-packages\\pyarrow\\error.pxi:155\u001b[0m, in \u001b[0;36mpyarrow.lib.pyarrow_internal_check_status\u001b[1;34m()\u001b[0m\n",
      "File \u001b[1;32mc:\\Users\\budde\\anaconda3\\Lib\\site-packages\\pyarrow\\error.pxi:92\u001b[0m, in \u001b[0;36mpyarrow.lib.check_status\u001b[1;34m()\u001b[0m\n",
      "\u001b[1;31mFileNotFoundError\u001b[0m: [WinError 3] Failed to open local file 'data/working/fish_frames.feather'. Detail: [Windows error 3] The system cannot find the path specified.\r\n"
     ]
    }
   ],
   "source": [
    "# get data\n",
    "data = feather.read_feather(\"data/working/fish_frames.feather\")\n",
    "X = data.drop('label', axis=1).to_numpy()\n",
    "y = data['label'].to_numpy()\n",
    "print(data)"
   ]
  },
  {
   "cell_type": "code",
   "execution_count": null,
   "id": "d3d9668e",
   "metadata": {},
   "outputs": [],
   "source": [
    "# get data\n",
    "data = feather.read_feather(\"data/working/fish_test.feather\")\n",
    "X = data.drop('label', axis=1).to_numpy()\n",
    "y = data['label'].to_numpy()\n",
    "print(data)\n",
    "\n",
    "\n",
    "\n",
    "print('data read')\n",
    "\n",
    "img_rows, img_cols = 288, 352\n",
    "\n",
    "# split data\n",
    "X_train, X_test, y_train, y_test = train_test_split(X, y, test_size=0.2)\n",
    "print(y_test)\n",
    "\n",
    "# add dimensionality and scale\n",
    "X_train = X_train.reshape(X_train.shape[0], img_rows, img_cols, 1) / 255\n",
    "X_test = X_test.reshape(X_test.shape[0], img_rows, img_cols, 1) / 255\n",
    "\n",
    "print('data split and scaled')\n",
    "\n",
    "model = fish_cnn(img_rows, img_cols)\n",
    "model.fit(X_train, y_train, epochs=10, verbose=True, batch_size=30)\n",
    "\n",
    "print('model fit')\n",
    "\n",
    "score = model.evaluate(X_test, y_test, verbose=0)\n",
    "print('loss=', score[0])\n",
    "print('accuracy=', score[1])"
   ]
  }
 ],
 "metadata": {
  "kernelspec": {
   "display_name": "base",
   "language": "python",
   "name": "python3"
  },
  "language_info": {
   "codemirror_mode": {
    "name": "ipython",
    "version": 3
   },
   "file_extension": ".py",
   "mimetype": "text/x-python",
   "name": "python",
   "nbconvert_exporter": "python",
   "pygments_lexer": "ipython3",
   "version": "3.11.8"
  }
 },
 "nbformat": 4,
 "nbformat_minor": 5
}
